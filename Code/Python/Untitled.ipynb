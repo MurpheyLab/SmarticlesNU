{
 "cells": [
  {
   "cell_type": "code",
   "execution_count": 2,
   "metadata": {},
   "outputs": [],
   "source": [
    "from pysmarticle.SmarticleSwarm import SmarticleSwarm\n",
    "from random import randint\n",
    "import time\n",
    "import numpy as np\n",
    "import math"
   ]
  },
  {
   "cell_type": "code",
   "execution_count": 3,
   "metadata": {},
   "outputs": [
    {
     "name": "stdout",
     "output_type": "stream",
     "text": [
      "Discovering remote XBee devices...\n",
      "Device discovered: 0013A20041958C3C - smart9\n",
      "Device discovered: 0013A20041B42952 - smart11\n",
      "Discovery cycle finished\n",
      "\n",
      "Successfully discovered 2 out of 1 expected Smarticles\n",
      "\n",
      "Network Discovery Ended\n",
      "\n"
     ]
    }
   ],
   "source": [
    "PORT_NAME = '/dev/tty.usbserial-DN050I6Q'\n",
    "\n",
    "\n",
    "def rx_callback(xbee_message):\n",
    "    '''Simple call_back function to print received packets'''\n",
    "\n",
    "    print(\"From {} >> {}\".format(xbee_message.remote_device.get_node_id(),\n",
    "                             xbee_message.data))\n",
    "\n",
    "\n",
    "\n",
    "# instantiate SmarticleSwarm object with default args\n",
    "# change/specify USB port!!\n",
    "swarm = SmarticleSwarm(port=PORT_NAME)\n",
    "swarm.xb.add_rx_callback(rx_callback)\n",
    "# discover smarticles on network; by default has 15s timeout\n",
    "swarm.build_network(1)"
   ]
  },
  {
   "cell_type": "code",
   "execution_count": 29,
   "metadata": {},
   "outputs": [
    {
     "name": "stdout",
     "output_type": "stream",
     "text": [
      "From smart9 >> bytearray(b'DEBUG: set debug: 1\\n')\n",
      "From smart9 >> bytearray(b'DEBUG: set id: 9\\n')\n",
      "From smart9 >> bytearray(b'DEBUG: set mode: 2\\n')\n",
      "From smart11 >> bytearray(b'DEBUG: set debug: 1\\nDEBUG: set id: 11\\nDEBUG: set mode: 2\\n')\n"
     ]
    }
   ],
   "source": [
    "swarm.set_debug(1)\n",
    "swarm.send_ids()\n",
    "swarm.set_mode(2)"
   ]
  },
  {
   "cell_type": "code",
   "execution_count": 22,
   "metadata": {},
   "outputs": [],
   "source": [
    "L = [0,0,180,180]\n",
    "R = [0,180,180,0]"
   ]
  },
  {
   "cell_type": "code",
   "execution_count": 23,
   "metadata": {},
   "outputs": [
    {
     "name": "stdout",
     "output_type": "stream",
     "text": [
      "From smart11 >> bytearray(b'Time Step: 3515Number:0\\tIndex:0 \\tL:0\\tR:0\\nNumber:0\\tIndex:1 \\tL:0\\tR:180\\nNumber:0\\tIndex:2 \\tL:180\\tR:180\\nNumber:0\\tIndex:')\n",
      "From smart11 >> bytearray(b'3 \\tL:180\\tR:0\\n')\n",
      "From smart9 >> bytearray(b'Time Step: 3515Number:0\\tIndex:0 \\tL:0\\tR:0\\nNumber:0\\tIndex:1 \\tL:0\\tR:180\\nNumber:0\\tIndex:2 \\tL:180\\tR:180\\nNumber:0\\tIndex:')\n",
      "From smart9 >> bytearray(b'3 \\tL:180\\tR:0\\n')\n"
     ]
    }
   ],
   "source": [
    "swarm.gait_init([L,R],450)"
   ]
  },
  {
   "cell_type": "code",
   "execution_count": 24,
   "metadata": {},
   "outputs": [
    {
     "name": "stdout",
     "output_type": "stream",
     "text": [
      "From smart11 >> bytearray(b'DEBUG: toggle t4 interrupt: 1\\n')\n",
      "From smart9 >> bytearray(b'DEBUG: toggle t4 interrupt: 1\\n')\n"
     ]
    }
   ],
   "source": [
    "swarm.set_servos(1)"
   ]
  },
  {
   "cell_type": "code",
   "execution_count": 27,
   "metadata": {},
   "outputs": [
    {
     "name": "stdout",
     "output_type": "stream",
     "text": [
      "From smart11 >> bytearray(b'DEBUG: set plank: 0')\n",
      "From smart9 >> bytearray(b'DEBUG: set plank: 1')\n"
     ]
    }
   ],
   "source": [
    "p = np.array([[9,1],[11,0]])\n",
    "swarm.set_plank(p)"
   ]
  },
  {
   "cell_type": "code",
   "execution_count": 30,
   "metadata": {},
   "outputs": [],
   "source": [
    "swarm.close()"
   ]
  },
  {
   "cell_type": "code",
   "execution_count": null,
   "metadata": {},
   "outputs": [],
   "source": []
  }
 ],
 "metadata": {
  "kernelspec": {
   "display_name": "Python 3",
   "language": "python",
   "name": "python3"
  },
  "language_info": {
   "codemirror_mode": {
    "name": "ipython",
    "version": 3
   },
   "file_extension": ".py",
   "mimetype": "text/x-python",
   "name": "python",
   "nbconvert_exporter": "python",
   "pygments_lexer": "ipython3",
   "version": "3.7.4"
  }
 },
 "nbformat": 4,
 "nbformat_minor": 4
}
